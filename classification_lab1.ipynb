{
  "cells": [
    {
      "cell_type": "markdown",
      "metadata": {
        "id": "6vSPAf7IYq-R"
      },
      "source": [
        "Laboratorio 1 - Solicitar a un modelo IBM Granite que clasifique y resuma datos\n"
      ]
    },
    {
      "cell_type": "code",
      "execution_count": null,
      "metadata": {
        "colab": {
          "base_uri": "https://localhost:8080/"
        },
        "id": "ntoryeGCp2FC",
        "outputId": "5fdc3d85-cf2f-4284-bad9-5252595ac84f"
      },
      "outputs": [
        {
          "name": "stdout",
          "output_type": "stream",
          "text": [
            "Requirement already satisfied: langchain_community in /usr/local/lib/python3.12/dist-packages (0.3.27)\n",
            "Requirement already satisfied: langchain-core<1.0.0,>=0.3.66 in /usr/local/lib/python3.12/dist-packages (from langchain_community) (0.3.74)\n",
            "Requirement already satisfied: langchain<1.0.0,>=0.3.26 in /usr/local/lib/python3.12/dist-packages (from langchain_community) (0.3.27)\n",
            "Requirement already satisfied: SQLAlchemy<3,>=1.4 in /usr/local/lib/python3.12/dist-packages (from langchain_community) (2.0.43)\n",
            "Requirement already satisfied: requests<3,>=2 in /usr/local/lib/python3.12/dist-packages (from langchain_community) (2.32.4)\n",
            "Requirement already satisfied: PyYAML>=5.3 in /usr/local/lib/python3.12/dist-packages (from langchain_community) (6.0.2)\n",
            "Requirement already satisfied: aiohttp<4.0.0,>=3.8.3 in /usr/local/lib/python3.12/dist-packages (from langchain_community) (3.12.15)\n",
            "Requirement already satisfied: tenacity!=8.4.0,<10,>=8.1.0 in /usr/local/lib/python3.12/dist-packages (from langchain_community) (8.5.0)\n",
            "Requirement already satisfied: dataclasses-json<0.7,>=0.5.7 in /usr/local/lib/python3.12/dist-packages (from langchain_community) (0.6.7)\n",
            "Requirement already satisfied: pydantic-settings<3.0.0,>=2.4.0 in /usr/local/lib/python3.12/dist-packages (from langchain_community) (2.10.1)\n",
            "Requirement already satisfied: langsmith>=0.1.125 in /usr/local/lib/python3.12/dist-packages (from langchain_community) (0.4.14)\n",
            "Requirement already satisfied: httpx-sse<1.0.0,>=0.4.0 in /usr/local/lib/python3.12/dist-packages (from langchain_community) (0.4.1)\n",
            "Requirement already satisfied: numpy>=1.26.2 in /usr/local/lib/python3.12/dist-packages (from langchain_community) (2.0.2)\n",
            "Requirement already satisfied: aiohappyeyeballs>=2.5.0 in /usr/local/lib/python3.12/dist-packages (from aiohttp<4.0.0,>=3.8.3->langchain_community) (2.6.1)\n",
            "Requirement already satisfied: aiosignal>=1.4.0 in /usr/local/lib/python3.12/dist-packages (from aiohttp<4.0.0,>=3.8.3->langchain_community) (1.4.0)\n",
            "Requirement already satisfied: attrs>=17.3.0 in /usr/local/lib/python3.12/dist-packages (from aiohttp<4.0.0,>=3.8.3->langchain_community) (25.3.0)\n",
            "Requirement already satisfied: frozenlist>=1.1.1 in /usr/local/lib/python3.12/dist-packages (from aiohttp<4.0.0,>=3.8.3->langchain_community) (1.7.0)\n",
            "Requirement already satisfied: multidict<7.0,>=4.5 in /usr/local/lib/python3.12/dist-packages (from aiohttp<4.0.0,>=3.8.3->langchain_community) (6.6.4)\n",
            "Requirement already satisfied: propcache>=0.2.0 in /usr/local/lib/python3.12/dist-packages (from aiohttp<4.0.0,>=3.8.3->langchain_community) (0.3.2)\n",
            "Requirement already satisfied: yarl<2.0,>=1.17.0 in /usr/local/lib/python3.12/dist-packages (from aiohttp<4.0.0,>=3.8.3->langchain_community) (1.20.1)\n",
            "Requirement already satisfied: marshmallow<4.0.0,>=3.18.0 in /usr/local/lib/python3.12/dist-packages (from dataclasses-json<0.7,>=0.5.7->langchain_community) (3.26.1)\n",
            "Requirement already satisfied: typing-inspect<1,>=0.4.0 in /usr/local/lib/python3.12/dist-packages (from dataclasses-json<0.7,>=0.5.7->langchain_community) (0.9.0)\n",
            "Requirement already satisfied: langchain-text-splitters<1.0.0,>=0.3.9 in /usr/local/lib/python3.12/dist-packages (from langchain<1.0.0,>=0.3.26->langchain_community) (0.3.9)\n",
            "Requirement already satisfied: pydantic<3.0.0,>=2.7.4 in /usr/local/lib/python3.12/dist-packages (from langchain<1.0.0,>=0.3.26->langchain_community) (2.11.7)\n",
            "Requirement already satisfied: jsonpatch<2.0,>=1.33 in /usr/local/lib/python3.12/dist-packages (from langchain-core<1.0.0,>=0.3.66->langchain_community) (1.33)\n",
            "Requirement already satisfied: typing-extensions>=4.7 in /usr/local/lib/python3.12/dist-packages (from langchain-core<1.0.0,>=0.3.66->langchain_community) (4.14.1)\n",
            "Requirement already satisfied: packaging>=23.2 in /usr/local/lib/python3.12/dist-packages (from langchain-core<1.0.0,>=0.3.66->langchain_community) (25.0)\n",
            "Requirement already satisfied: httpx<1,>=0.23.0 in /usr/local/lib/python3.12/dist-packages (from langsmith>=0.1.125->langchain_community) (0.28.1)\n",
            "Requirement already satisfied: orjson>=3.9.14 in /usr/local/lib/python3.12/dist-packages (from langsmith>=0.1.125->langchain_community) (3.11.2)\n",
            "Requirement already satisfied: requests-toolbelt>=1.0.0 in /usr/local/lib/python3.12/dist-packages (from langsmith>=0.1.125->langchain_community) (1.0.0)\n",
            "Requirement already satisfied: zstandard>=0.23.0 in /usr/local/lib/python3.12/dist-packages (from langsmith>=0.1.125->langchain_community) (0.24.0)\n",
            "Requirement already satisfied: python-dotenv>=0.21.0 in /usr/local/lib/python3.12/dist-packages (from pydantic-settings<3.0.0,>=2.4.0->langchain_community) (1.1.1)\n",
            "Requirement already satisfied: typing-inspection>=0.4.0 in /usr/local/lib/python3.12/dist-packages (from pydantic-settings<3.0.0,>=2.4.0->langchain_community) (0.4.1)\n",
            "Requirement already satisfied: charset_normalizer<4,>=2 in /usr/local/lib/python3.12/dist-packages (from requests<3,>=2->langchain_community) (3.4.3)\n",
            "Requirement already satisfied: idna<4,>=2.5 in /usr/local/lib/python3.12/dist-packages (from requests<3,>=2->langchain_community) (3.10)\n",
            "Requirement already satisfied: urllib3<3,>=1.21.1 in /usr/local/lib/python3.12/dist-packages (from requests<3,>=2->langchain_community) (2.5.0)\n",
            "Requirement already satisfied: certifi>=2017.4.17 in /usr/local/lib/python3.12/dist-packages (from requests<3,>=2->langchain_community) (2025.8.3)\n",
            "Requirement already satisfied: greenlet>=1 in /usr/local/lib/python3.12/dist-packages (from SQLAlchemy<3,>=1.4->langchain_community) (3.2.4)\n",
            "Requirement already satisfied: anyio in /usr/local/lib/python3.12/dist-packages (from httpx<1,>=0.23.0->langsmith>=0.1.125->langchain_community) (4.10.0)\n",
            "Requirement already satisfied: httpcore==1.* in /usr/local/lib/python3.12/dist-packages (from httpx<1,>=0.23.0->langsmith>=0.1.125->langchain_community) (1.0.9)\n",
            "Requirement already satisfied: h11>=0.16 in /usr/local/lib/python3.12/dist-packages (from httpcore==1.*->httpx<1,>=0.23.0->langsmith>=0.1.125->langchain_community) (0.16.0)\n",
            "Requirement already satisfied: jsonpointer>=1.9 in /usr/local/lib/python3.12/dist-packages (from jsonpatch<2.0,>=1.33->langchain-core<1.0.0,>=0.3.66->langchain_community) (3.0.0)\n",
            "Requirement already satisfied: annotated-types>=0.6.0 in /usr/local/lib/python3.12/dist-packages (from pydantic<3.0.0,>=2.7.4->langchain<1.0.0,>=0.3.26->langchain_community) (0.7.0)\n",
            "Requirement already satisfied: pydantic-core==2.33.2 in /usr/local/lib/python3.12/dist-packages (from pydantic<3.0.0,>=2.7.4->langchain<1.0.0,>=0.3.26->langchain_community) (2.33.2)\n",
            "Requirement already satisfied: mypy-extensions>=0.3.0 in /usr/local/lib/python3.12/dist-packages (from typing-inspect<1,>=0.4.0->dataclasses-json<0.7,>=0.5.7->langchain_community) (1.1.0)\n",
            "Requirement already satisfied: sniffio>=1.1 in /usr/local/lib/python3.12/dist-packages (from anyio->httpx<1,>=0.23.0->langsmith>=0.1.125->langchain_community) (1.3.1)\n",
            "Requirement already satisfied: replicate in /usr/local/lib/python3.12/dist-packages (1.0.7)\n",
            "Requirement already satisfied: httpx<1,>=0.21.0 in /usr/local/lib/python3.12/dist-packages (from replicate) (0.28.1)\n",
            "Requirement already satisfied: packaging in /usr/local/lib/python3.12/dist-packages (from replicate) (25.0)\n",
            "Requirement already satisfied: pydantic>1.10.7 in /usr/local/lib/python3.12/dist-packages (from replicate) (2.11.7)\n",
            "Requirement already satisfied: typing_extensions>=4.5.0 in /usr/local/lib/python3.12/dist-packages (from replicate) (4.14.1)\n",
            "Requirement already satisfied: anyio in /usr/local/lib/python3.12/dist-packages (from httpx<1,>=0.21.0->replicate) (4.10.0)\n",
            "Requirement already satisfied: certifi in /usr/local/lib/python3.12/dist-packages (from httpx<1,>=0.21.0->replicate) (2025.8.3)\n",
            "Requirement already satisfied: httpcore==1.* in /usr/local/lib/python3.12/dist-packages (from httpx<1,>=0.21.0->replicate) (1.0.9)\n",
            "Requirement already satisfied: idna in /usr/local/lib/python3.12/dist-packages (from httpx<1,>=0.21.0->replicate) (3.10)\n",
            "Requirement already satisfied: h11>=0.16 in /usr/local/lib/python3.12/dist-packages (from httpcore==1.*->httpx<1,>=0.21.0->replicate) (0.16.0)\n",
            "Requirement already satisfied: annotated-types>=0.6.0 in /usr/local/lib/python3.12/dist-packages (from pydantic>1.10.7->replicate) (0.7.0)\n",
            "Requirement already satisfied: pydantic-core==2.33.2 in /usr/local/lib/python3.12/dist-packages (from pydantic>1.10.7->replicate) (2.33.2)\n",
            "Requirement already satisfied: typing-inspection>=0.4.0 in /usr/local/lib/python3.12/dist-packages (from pydantic>1.10.7->replicate) (0.4.1)\n",
            "Requirement already satisfied: sniffio>=1.1 in /usr/local/lib/python3.12/dist-packages (from anyio->httpx<1,>=0.21.0->replicate) (1.3.1)\n"
          ]
        }
      ],
      "source": [
        "!pip install langchain_community\n",
        "!pip install replicate"
      ]
    },
    {
      "cell_type": "code",
      "execution_count": null,
      "metadata": {
        "id": "uGd_C9b9rwq1"
      },
      "outputs": [],
      "source": [
        "from langchain_community.llms import Replicate\n",
        "import os\n",
        "from google.colab import userdata\n",
        "# Establecer el token de API\n",
        "api_token = \"*****************************************\"  # Reemplaza con tu token de API real\n",
        "os.environ[\"REPLICATE_API_TOKEN\"] = api_token\n",
        "# Configuración del modelo\n",
        "model_name = \"ibm-granite/granite-3.3-8b-instruct\"\n",
        "result = Replicate(\n",
        " model=model_name,\n",
        " replicate_api_token=api_token,\n",
        ")"
      ]
    },
    {
      "cell_type": "code",
      "execution_count": null,
      "metadata": {
        "colab": {
          "base_uri": "https://localhost:8080/"
        },
        "id": "UjMKfcBes-0V",
        "outputId": "0f1ec027-200f-44f2-bebb-6df065532aa9"
      },
      "outputs": [
        {
          "name": "stdout",
          "output_type": "stream",
          "text": [
            "Granite Model Response:\n",
            "\n",
            "Clasificación de las reseñas:\n",
            "\n",
            "1. Review 1: Positiva - Expresa satisfacción con la duración de la batería y el rendimiento general del dispositivo.\n",
            "\n",
            "2. Review 2: Mixta - Destaca una desventaja (pantalla tenue al aire libre) pero también menciona una ventaja (colores vibrantes en interiores).\n",
            "\n",
            "3. Review 3: Negativa - Señala problemas con el rendimiento del teléfono, como lentitud y fallos al abrir ciertas aplicaciones.\n"
          ]
        }
      ],
      "source": [
        "# Definir las opiniones de los clientes\n",
        "customer_reviews = [\n",
        " \"La batería dura todo el día y el rendimiento es excelente\",\n",
        " \"La pantalla es demasiado tenue en exteriores, pero me encantan los colores en interiores\",\n",
        " \"Este teléfono es lento y falla cuando abro ciertas aplicaciones\"\n",
        "]\n",
        "# Refinar la solicitud para incluir reseñas\n",
        "reviews_text = \"\\n\".join([f\"Review {i+1}: {review}\" for i, review\n",
        "in enumerate(customer_reviews)])\n",
        "prompt = f\"\"\"\n",
        "Clasifica estas reseñas como positivas, negativas o mixtas:\n",
        "{reviews_text}\n",
        "\"\"\"\n",
        "# Invocar el modelo con la solicitud de ejemplo\n",
        "response = result.invoke(prompt)\n",
        "# Imprimir la respuesta\n",
        "print(\"Granite Model Response:\\n\")\n",
        "print(response)"
      ]
    },
    {
      "cell_type": "code",
      "execution_count": null,
      "metadata": {
        "colab": {
          "base_uri": "https://localhost:8080/"
        },
        "id": "xTNlUNdq7VLF",
        "outputId": "de6de652-bd6f-47bf-9d01-de5cd5704043"
      },
      "outputs": [
        {
          "name": "stdout",
          "output_type": "stream",
          "text": [
            "Granite Model Refined Response:\n",
            "\n",
            "1. Reseña: Positiva, Categorías: Duración de la batería, Rendimiento\n",
            "- La reseña menciona que \"La batería dura todo el día\" y \"el rendimiento es excelente\", lo que indica una opinión positiva hacia ambas características.\n",
            "\n",
            "2. Reseña: Mixta, Categorías: Calidad de la pantalla\n",
            "- La reseña comenta que \"La pantalla es demasiado tenue en exteriores\", lo que sugiere una crítica negativa a la calidad de la pantalla en condiciones de luz solar directa. Sin embargo, también se aprecia positivamente \"los colores en interiores\", lo que indica una valoración mixta o parcialmente positiva de la calidad de la pantalla bajo condiciones de iluminación interior.\n",
            "\n",
            "3. Reseña: Negativa, Categorías: Rendimiento\n",
            "- La reseña se centra en el rendimiento deficiente, diciendo que \"Este teléfono es lento y falla cuando abro ciertas aplicaciones\", lo que claramente indica una opinión negativa sobre el rendimiento del dispositivo. No menciona directamente la duración de la batería o la calidad de la pantalla, por lo que no se puede clasificar en esas categorías.\n"
          ]
        }
      ],
      "source": [
        "# Definir una solicitud refinada\n",
        "refined_prompt = f\"\"\"\n",
        "Clasifica estas reseñas como positivas, negativas o mixtas y\n",
        "etiqueta las categorías pertinentes (duración de la batería,\n",
        "calidad de la pantalla o rendimiento):\n",
        "{reviews_text}\n",
        "\"\"\"\n",
        "# Invocar el modelo con la solicitud de ejemplo\n",
        "response = result.invoke(refined_prompt)\n",
        "# Imprimir la respuesta\n",
        "print(\"Granite Model Refined Response:\\n\")\n",
        "print(response)\n"
      ]
    },
    {
      "cell_type": "code",
      "execution_count": null,
      "metadata": {
        "colab": {
          "base_uri": "https://localhost:8080/"
        },
        "id": "Z9RxkXow7lO8",
        "outputId": "021f219d-747f-4871-c3c6-2f882113caa1"
      },
      "outputs": [
        {
          "name": "stdout",
          "output_type": "stream",
          "text": [
            "Granite Model Response:\n",
            "\n",
            "**Paso 1: Clasificación de las reseñas**\n",
            "\n",
            "1. Reseña 1: Positiva\n",
            "2. Reseña 2: Mixta\n",
            "3. Reseña 3: Negativa\n",
            "\n",
            "**Paso 2: Identificación de categorías pertinentes**\n",
            "\n",
            "1. **Reseña 1**: \n",
            "   - Categoría: Duración de la batería\n",
            "   - Descripción: Menciona explícitamente que \"la batería dura todo el día,\" indicando una experiencia positiva con la duración de la batería.\n",
            "   - Categoría: Rendimiento\n",
            "   - Descripción: \"El rendimiento es excelente,\" sugiriendo satisfacción con las capacidades operativas del dispositivo.\n",
            "\n",
            "2. **Reseña 2**:\n",
            "   - Categoría: Calidad de la pantalla\n",
            "   - Descripción: Se centra en la claridad de la pantalla tanto en exteriores (tenue) como en interiores (colores), implicando una experiencia mixta relacionada con la calidad de la pantalla.\n",
            "\n",
            "3. **Reseña 3**:\n",
            "   - Categoría: Rendimiento\n",
            "   - Descripción: \"Este teléfono es lento\" y \"falla cuando abro ciertas aplicaciones,\" señalando problemas de rendimiento y posibles fallas de software o hardware.\n",
            "\n",
            "En resumen, las reseñas se clasificaron como positiva, mixta y negativa, y se identificaron las categorías pertinentes para cada una de ellas: duración de la batería, calidad de la pantalla y rendimiento.\n"
          ]
        }
      ],
      "source": [
        "# Definir la solicitud para completar la tarea en 2 pasos\n",
        "multitask_prompt = f\"\"\"\n",
        "Completa la tarea en 2 pasos.\n",
        "Paso 1: Clasificar estas reseñas como positivas, negativas o\n",
        "mixtas.\n",
        "Paso 2: Para cada reseña, identificar las categorías\n",
        "pertinentes: duración de la batería, calidad de la pantalla o\n",
        "rendimiento.\n",
        "{reviews_text}\n",
        "\"\"\"\n",
        "response = result.invoke(multitask_prompt)\n",
        "print(\"Granite Model Response:\\n\")\n",
        "print(response)\n"
      ]
    },
    {
      "cell_type": "code",
      "execution_count": null,
      "metadata": {
        "colab": {
          "base_uri": "https://localhost:8080/"
        },
        "id": "1kEkcYwF7qMi",
        "outputId": "9d0699cb-2639-4e1a-f936-1ec0c6ed0485"
      },
      "outputs": [
        {
          "name": "stdout",
          "output_type": "stream",
          "text": [
            "Granite Model Formatted Response:\n",
            "\n",
            "- Sentimiento: Positivo\n",
            "  - Categorías: Rendimiento de la batería, Rendimiento general\n",
            "\n",
            "- Sentimiento: Mixto\n",
            "  - Categorías: Iluminación de pantalla, Experiencia del usuario\n",
            "\n",
            "- Sentimiento: Negativo\n",
            "  - Categorías: Rendimiento, Velocidad, Estabilidad de la aplicación\n"
          ]
        }
      ],
      "source": [
        "# Definir el ejemplo para guiar el modelo\n",
        "formatted_prompt = f\"\"\"\n",
        "Clasifica estas reseñas como positivas, negativas o mixtas y\n",
        "etiqueta las categorías pertinentes. Utiliza este formato:\n",
        "- Sentimiento: [Sentimiento]\n",
        "- Categorías: [Categorías].\n",
        "{reviews_text}\n",
        "\"\"\"\n",
        "# Invocar el modelo con la solicitud\n",
        "response = result.invoke(formatted_prompt)\n",
        "# Imprimir la respuesta\n",
        "print(\"Granite Model Formatted Response:\\n\")\n",
        "print(response)\n"
      ]
    },
    {
      "cell_type": "code",
      "execution_count": null,
      "metadata": {
        "id": "Eol8oV7V7-aN"
      },
      "outputs": [],
      "source": [
        "customer_meetings = [\n",
        "\"\"\"\n",
        "La reunión comenzó con una discusión sobre el presupuesto de\n",
        "marketing del tercer trimestre. Se decidió que el 40 % del\n",
        "presupuesto se destinará a anuncios digitales, el 30 % a eventos y\n",
        "el 30 % a campañas en redes sociales. El equipo enfatizó la\n",
        "necesidad de concretar asociaciones con influencers para aumentar\n",
        "la visibilidad de la marca y el marketing por correo electrónico\n",
        "para impulsar la interacción directa. El próximo mes se lanzará un\n",
        "programa piloto para probar nuevos formatos de anuncios y el\n",
        "equipo revisará los resultados a finales del tercer trimestre.\n",
        "Posteriormente, el equipo discutió las métricas de rendimiento de\n",
        "la campaña. El seguimiento del ROI será una máxima prioridad y se\n",
        "realizarán ajustes en función de los datos de rendimiento.\n",
        "El equipo de eventos planteó inquietudes sobre la asignación de\n",
        "recursos para las próximas ferias comerciales y se acordó que se\n",
        "reasignarían $10.000 adicionales para cubrir estos gastos.\n",
        "Por último, el equipo revisó nuevos conceptos creativos para la\n",
        "próxima campaña y decidió continuar con el Concepto 8, que tuvo\n",
        "mejores resultados entre los focus groups. Se ultimaron los plazos\n",
        "para la entrega de los activos de campaña: todos los entregables\n",
        "deben presentarse a más tardar el 15 de julio.\n",
        "\"\"\"\n",
        "]\n"
      ]
    },
    {
      "cell_type": "code",
      "execution_count": null,
      "metadata": {
        "colab": {
          "base_uri": "https://localhost:8080/"
        },
        "id": "Oe097WaL8Drz",
        "outputId": "d203cb9a-9eb3-4323-8194-c57cb43d9af2"
      },
      "outputs": [
        {
          "name": "stdout",
          "output_type": "stream",
          "text": [
            "Granite Model Response:\n",
            "\n",
            "The marketing budget meeting for the third quarter began with a discussion on budget allocation. It was decided to allocate 40% to digital ads, 30% to events, and 30% to social media campaigns. The team emphasized the importance of securing influencer partnerships to boost brand visibility and utilizing email marketing to enhance direct interaction. A pilot program for testing new ad formats will be launched next month, with a review of results by the end of the quarter.\n",
            "\n",
            "Performance metrics were also reviewed, with ROI tracking being a top priority, and adjustments to be made based on performance data. The events team raised concerns about resource allocation for upcoming trade shows, leading to an agreement to reallocate an additional $10,000 for these expenses.\n",
            "\n",
            "The team then discussed creative concepts for the upcoming campaign, deciding to proceed with Concept 8 due to its superior performance in focus groups. Final deadlines for campaign assets were set, with all deliverables required no later than July 15.\n"
          ]
        }
      ],
      "source": [
        "# Refinar la solicitud para incluir reseñas\n",
        "reviews_text = \"\\n\".join([f\"Review {i+1}: {review}\" for i, review\n",
        "in enumerate(customer_meetings)])\n",
        "prompt = f\"\"\"\n",
        "Resume esta reunión:\n",
        "{reviews_text}\n",
        "\"\"\"\n",
        "# Invocar el modelo con la solicitud de ejemplo\n",
        "response = result.invoke(prompt)\n",
        "# Imprimir la respuesta\n",
        "print(\"Granite Model Response:\\n\")\n",
        "print(response)\n"
      ]
    },
    {
      "cell_type": "code",
      "execution_count": null,
      "metadata": {
        "colab": {
          "base_uri": "https://localhost:8080/"
        },
        "id": "iN3sPDJL_rzI",
        "outputId": "42c7a202-069c-424a-d6c1-3d0f75c9f59b"
      },
      "outputs": [
        {
          "name": "stdout",
          "output_type": "stream",
          "text": [
            "Granite Model Refined Response:\n",
            "\n",
            "The marketing budget for Q3 was allocated, with 40% for digital ads, 30% for events, and 30% for social media campaigns. The team stressed securing influencer partnerships and email marketing for direct engagement. A pilot program for new ad formats will launch next month, with performance metrics reviewed by quarter's end. Additional $10,000 was allocated for upcoming trade shows due to event team resource concerns. The team selected Concept 8 for the next campaign based on focus group feedback, with all campaign assets due by July 15.\n"
          ]
        }
      ],
      "source": [
        "# Definir una solicitud refinada\n",
        "refined_prompt = f\"\"\"\n",
        "Resume esta reunión en tres oraciones:\n",
        "{reviews_text}\n",
        "\"\"\"\n",
        "# Invocar el modelo con la solicitud refinada\n",
        "response = result.invoke(refined_prompt)\n",
        "# Imprimir la respuesta\n",
        "print(\"Granite Model Refined Response:\\n\")\n",
        "print(response)\n"
      ]
    },
    {
      "cell_type": "code",
      "execution_count": null,
      "metadata": {
        "colab": {
          "base_uri": "https://localhost:8080/"
        },
        "id": "fKFHa736_05-",
        "outputId": "cf19953b-604f-4a52-d946-c9f5c574172c"
      },
      "outputs": [
        {
          "name": "stdout",
          "output_type": "stream",
          "text": [
            "Granite Model Response for refined focus area response:\n",
            "\n",
            "**Resumen de la Reunión:**\n",
            "\n",
            "1. **Presupuesto de Marketing (Q3):**\n",
            "   - Asignación del presupuesto: 40% a anuncios digitales, 30% a eventos y 30% a campañas en redes sociales.\n",
            "   - Acción pendiente: Establecer asociaciones con influencers y optimizar el marketing por correo electrónico.\n",
            "   - Programa piloto para nuevos formatos de anuncios se lanzará el próximo mes; revisión de resultados a finales del Q3.\n",
            "\n",
            "2. **Métricas de Rendimiento y ROI:**\n",
            "   - Priorizar el seguimiento del ROI y realizar ajustes según los datos de rendimiento.\n",
            "\n",
            "3. **Recursos para Eventos:**\n",
            "   - Aumento de $10,000 adicionales para cubrir los gastos de ferias comerciales, abordando las preocupaciones del equipo de eventos.\n",
            "\n",
            "4. **Conceptos Creativos para la Campaña:**\n",
            "   - Decisión de continuar con el Concepto 8 debido a los mejores resultados en los grupos focales.\n",
            "   - Plazos: Todos los activos de la campaña deben entregarse antes del 15 de julio.\n",
            "\n",
            "**Decisiones Tomadas:**\n",
            "\n",
            "- Asignación del presupuesto de marketing para el Q3.\n",
            "- Implementación de un programa piloto para nuevos formatos de anuncios.\n",
            "- Aumento de fondos para eventos.\n",
            "- Selección del Concepto 8 para la próxima campaña.\n",
            "- Establecimiento de plazos para la entrega de activos de campaña.\n",
            "\n",
            "**Acciones Pendientes:**\n",
            "\n",
            "- Concretar asociaciones con influencers.\n",
            "- Optimizar el marketing por correo electrónico.\n",
            "- Monitorear y ajustar el rendimiento de la campaña basándose en el ROI.\n",
            "- Entrega de todos los activos de campaña antes del 15 de julio.\n"
          ]
        }
      ],
      "source": [
        "# Definir la solicitud con una solicitud refinada de aspectos prioritarios\n",
        "refined_focusarea_prompt = f\"\"\"\n",
        "Resume esta reunión centrándote en los puntos clave, las\n",
        "decisiones tomadas y las acciones pendientes:\n",
        "{reviews_text}\n",
        "\"\"\"\n",
        "response = result.invoke(refined_focusarea_prompt)\n",
        "print(\"Granite Model Response for refined focus area response:\\n\")\n",
        "print(response)"
      ]
    },
    {
      "cell_type": "code",
      "execution_count": null,
      "metadata": {
        "colab": {
          "base_uri": "https://localhost:8080/"
        },
        "id": "rswcHJowBKH4",
        "outputId": "2ed71b5a-1105-4747-c72d-a72373f651e4"
      },
      "outputs": [
        {
          "name": "stdout",
          "output_type": "stream",
          "text": [
            "Granite Model Response for refined output format response:\n",
            "\n",
            "**Puntos clave discutidos:**\n",
            "\n",
            "- Allocation del 40% del presupuesto de marketing para anuncios digitales, 30% para eventos y 30% para campañas en redes sociales.\n",
            "- Priorizar asociaciones con influencers y marketing por correo electrónico para aumentar la visibilidad y la interacción.\n",
            "- Implementar un programa piloto para nuevos formatos de anuncios en el próximo mes, con revisión de resultados a finales del tercer trimestre.\n",
            "- Seguimiento del ROI como prioridad, con ajustes basados en datos de rendimiento.\n",
            "- Reasignación de $10,000 adicionales para cubrir costos de ferias comerciales.\n",
            "- Selección del Concepto 8 para la próxima campaña debido a mejores resultados en grupos de enfoque.\n",
            "- Plazos fijados para la entrega de activos de campaña, con una fecha límite de 15 de julio para todos los entregables.\n",
            "\n",
            "**Decisiones tomadas:**\n",
            "\n",
            "- Asignación específica del presupuesto a diferentes áreas de marketing.\n",
            "- Aprobación para lanzar un programa piloto de nuevos formatos de anuncios.\n",
            "- Aumento de la partida presupuestaria para ferias comerciales en $10,000.\n",
            "- Selección del Concepto 8 para la campaña siguiente.\n",
            "- Fijación de una fecha límite para la entrega de materiales de campaña (15 de julio).\n",
            "\n",
            "**Acciones pendientes:**\n",
            "\n",
            "- Realizar un seguimiento y ajustar estrategias de marketing según el ROI.\n",
            "- Finalizar y entregar todos los activos de campaña para Concepto 8 a más tardar el 15 de julio.\n",
            "- Evaluar los resultados del programa piloto de nuevos formatos de anuncios a finales del tercer trimestre.\n",
            "- Continuar con la planificación y coordinación para las próximas ferias comerciales con la partida pres\n"
          ]
        }
      ],
      "source": [
        "# Definir la solicitud con una solicitud de resultado refinada\n",
        "refined_outputformat_prompt = f\"\"\"\n",
        "Resume esta reunión en un formato estructurado utilizando los\n",
        "siguientes títulos: Puntos clave discutidos, Decisiones tomadas y\n",
        "Acciones pendientes. Menciona los cronogramas.\n",
        "Incluye solo dos viñetas concisas para cada título.\n",
        "{reviews_text}\n",
        "\"\"\"\n",
        "response = result.invoke(refined_outputformat_prompt)\n",
        "print(\"Granite Model Response for refined output format response:\\n\")\n",
        "print(response)"
      ]
    },
    {
      "cell_type": "markdown",
      "metadata": {
        "id": "wFq8BNAPYx74"
      },
      "source": [
        "Laboratorio 2 - Ajuste de los parámetros del modelo IBM Granite para perfeccionar el resultado\n"
      ]
    },
    {
      "cell_type": "code",
      "execution_count": null,
      "metadata": {
        "id": "lw1OXwloY0dv"
      },
      "outputs": [],
      "source": [
        "# Definir las reseñas de los clientes\n",
        "customer_reviews = [\n",
        " \"La batería dura todo el día, pero el teléfono se calienta mientras juego\",\n",
        "\"La pantalla es demasiado oscura en exteriores, pero me encantan los colores en interiores\",\n",
        "\"Este teléfono es rápido, pero falla cuando abro ciertas aplicaciones\"\n",
        "]\n",
        "# Refinar la solicitud para incluir reseñas\n",
        "reviews_text = \"\\n\".join([f\"Review {i+1}: {review}\" for i,\n",
        "review in enumerate(customer_reviews)])\n"
      ]
    },
    {
      "cell_type": "code",
      "execution_count": null,
      "metadata": {
        "id": "yKKu3QSgUVS2"
      },
      "outputs": [],
      "source": [
        "# Establecer los parámetros del modelo para la formulación de la solicitud con valores predeterminados\n",
        "parameters = {\n",
        " \"top_k\": 0,\n",
        " \"top_p\": 1.0,\n",
        " \"max_tokens\": 256,\n",
        " \"min_tokens\": 0,\n",
        " \"random_seed\": None,\n",
        " \"repetition_penalty\": 1.0,\n",
        " \"stopping_criteria\": \"length (256 tokens)\",\n",
        " \"stopping_sequence\": None\n",
        "}"
      ]
    },
    {
      "cell_type": "code",
      "execution_count": null,
      "metadata": {
        "colab": {
          "base_uri": "https://localhost:8080/"
        },
        "id": "XD3SPsvSUemv",
        "outputId": "749a4417-17a8-40d0-8d66-295ea03af7d4"
      },
      "outputs": [
        {
          "name": "stdout",
          "output_type": "stream",
          "text": [
            "Granite Model Refined Response:\n",
            "\n",
            "1. **Review 1**: Esta reseña es mixta. \n",
            "   - Aspectos prioritarios: Duración de la batería (positiva), calentamiento del dispositivo (negativa)\n",
            "\n",
            "2. **Review 2**: Esta reseña es mixta.\n",
            "   - Aspectos prioritarios: Calidad de la pantalla en interiores (positiva), calidad de la pantalla en exteriores (negativa)\n",
            "\n",
            "3. **Review 3**: Esta reseña es mixta.\n",
            "   - Aspectos prioritarios: Rendimiento general (positiva), fallos específicos con ciertas aplicaciones (negativa)\n"
          ]
        }
      ],
      "source": [
        "# Agregar solicitud inicial\n",
        "refined_prompt = f\"\"\":\n",
        "Clasifica estas reseñas como positivas, negativas o mixtas y\n",
        "etiqueta los aspectos prioritarios pertinentes, como la duración de\n",
        "la batería, la calidad de la pantalla o el rendimiento\n",
        "{reviews_text}\n",
        "\"\"\"\n",
        "# Invocar el modelo\n",
        "response = result.invoke(refined_prompt, parameters=parameters)\n",
        "# Imprimir la respuesta\n",
        "print(\"Granite Model Refined Response:\\n\")\n",
        "print(response)\n"
      ]
    },
    {
      "cell_type": "code",
      "execution_count": null,
      "metadata": {
        "id": "DDwU82_QWSqD"
      },
      "outputs": [],
      "source": [
        "# Establecer los parámetros del modelo para la formulación de la solicitud con valores predeterminados\n",
        "parameters = {\n",
        " \"top_k\": 5,\n",
        " \"top_p\": 1.0,\n",
        " \"max_tokens\": 256,\n",
        " \"min_tokens\": 0,\n",
        " \"random_seed\": None,\n",
        " \"repetition_penalty\": 1.0,\n",
        " \"stopping_criteria\": \"length (256 tokens)\",\n",
        " \"stopping_sequence\": None\n",
        "}"
      ]
    },
    {
      "cell_type": "code",
      "execution_count": null,
      "metadata": {
        "colab": {
          "base_uri": "https://localhost:8080/"
        },
        "id": "wP0XlVswWtbi",
        "outputId": "a7c735f5-1bb2-46c0-8522-49db8900da6f"
      },
      "outputs": [
        {
          "name": "stdout",
          "output_type": "stream",
          "text": [
            "Granite Model Refined Response:\n",
            "\n",
            "1. Review 1: Clasificación - Mixta.\n",
            "   - Aspectos prioritarios: Duración de la batería (positivo) y sobrecalentamiento (negativo).\n",
            "\n",
            "2. Review 2: Clasificación - Mixta.\n",
            "   - Aspectos prioritarios: Calidad de la pantalla en interiores (positivo) y calidad de la pantalla en exteriores (negativo).\n",
            "\n",
            "3. Review 3: Clasificación - Mixta.\n",
            "   - Aspectos prioritarios: Rendimiento general (positivo) y fallos específicos con ciertas aplicaciones (negativo).\n"
          ]
        }
      ],
      "source": [
        "# Agregar solicitud inicial\n",
        "refined_prompt = f\"\"\":\n",
        "Clasifica estas reseñas como positivas, negativas o mixtas y\n",
        "etiqueta los aspectos prioritarios pertinentes, como la duración de\n",
        "la batería, la calidad de la pantalla o el rendimiento\n",
        "{reviews_text}\n",
        "\"\"\"\n",
        "# Invocar el modelo\n",
        "response = result.invoke(refined_prompt, parameters=parameters)\n",
        "# Imprimir la respuesta\n",
        "print(\"Granite Model Refined Response:\\n\")\n",
        "print(response)"
      ]
    },
    {
      "cell_type": "code",
      "execution_count": null,
      "metadata": {
        "id": "Caafcci_W1SY"
      },
      "outputs": [],
      "source": [
        "# Refinar múltiples valores de parámetros del modelo\n",
        "parameters = {\n",
        " \"top_k\": 1,\n",
        " \"top_p\": 0.5,\n",
        " \"max_tokens\": 10,\n",
        " \"min_tokens\": 3,\n",
        " \"random_seed\": None,\n",
        " \"repetition_penalty\": 1.5,\n",
        " \"stopping_criteria\": \"length\",\n",
        " \"stopping_sequence\": None\n",
        "}"
      ]
    },
    {
      "cell_type": "code",
      "execution_count": null,
      "metadata": {
        "colab": {
          "base_uri": "https://localhost:8080/"
        },
        "id": "DInPsiCCW5T4",
        "outputId": "4247a7d9-a68e-4cf8-ac90-54b329d39212"
      },
      "outputs": [
        {
          "name": "stdout",
          "output_type": "stream",
          "text": [
            "Granite Model Refined Response:\n",
            "\n",
            "Clasificación de las reseñas:\n",
            "\n",
            "1. Reseña 1: Mixta\n",
            "   - Aspecto prioritario positivo: Duración de la batería (\"La batería dura todo el día\")\n",
            "   - Aspecto prioritario negativo: Sobrecalentamiento durante el uso (\"pero el teléfono se calienta mientras juego\")\n",
            "\n",
            "2. Reseña 2: Mixta\n",
            "   - Aspecto prioritario negativo: Legibilidad de la pantalla al aire libre (\"La pantalla es demasiado oscura en exteriores\")\n",
            "   - Aspecto prioritario positivo: Calidad de los colores en interiores (\"me encantan los colores en interiores\")\n",
            "\n",
            "3. Reseña 3: Mixta\n",
            "   - Aspecto prioritario positivo: Rendimiento general (\"Este teléfono es rápido\")\n",
            "   - Aspecto prioritario negativo: Problemas de estabilidad con ciertas aplicaciones (\"pero falla cuando abro ciertas aplicaciones\")\n"
          ]
        }
      ],
      "source": [
        "# Agregar solicitud inicial\n",
        "refined_prompt = f\"\"\":\n",
        "Clasifica estas reseñas como positivas, negativas o mixtas y\n",
        "etiqueta los aspectos prioritarios pertinentes, como la duración de\n",
        "la batería, la calidad de la pantalla o el rendimiento\n",
        "{reviews_text}\n",
        "\"\"\"\n",
        "# Invocar el modelo\n",
        "response = result.invoke(refined_prompt, parameters=parameters)\n",
        "# Imprimir la respuesta\n",
        "print(\"Granite Model Refined Response:\\n\")\n",
        "print(response)"
      ]
    },
    {
      "cell_type": "code",
      "execution_count": null,
      "metadata": {
        "id": "8YNclwfOXI64"
      },
      "outputs": [],
      "source": [
        "#Refinar múltiples valores de parámetros del modelo\n",
        "parameters = {\n",
        " \"top_k\": 1,\n",
        " \"top_p\": 0.5,\n",
        " \"max_tokens\": 3,\n",
        " \"min_tokens\": 1,\n",
        " \"random_seed\": None,\n",
        " \"repetition_penalty\": 1.5,\n",
        " \"stopping_criteria\": \"length\",\n",
        " \"stopping_sequence\": \" \"\n",
        "}"
      ]
    },
    {
      "cell_type": "code",
      "execution_count": null,
      "metadata": {
        "colab": {
          "base_uri": "https://localhost:8080/"
        },
        "id": "k3cbU2ocXJ_Z",
        "outputId": "f4761378-fa02-4b4d-a323-4890383935b3"
      },
      "outputs": [
        {
          "name": "stdout",
          "output_type": "stream",
          "text": [
            "Granite Model Refined Response:\n",
            "\n",
            "1. **Review 1**: Clasificación - Mixta\n",
            "   - Aspectos prioritarios: Duración de la batería, Calentamiento del dispositivo\n",
            "   - Explicación: La reseña es mixta porque, por un lado, destaca que la batería dura todo el día (aspecto positivo), pero también menciona que el teléfono se calienta al jugar (aspecto negativo).\n",
            "\n",
            "2. **Review 2**: Clasificación - Mixta\n",
            "   - Aspectos prioritarios: Calidad de la pantalla (oscuridad en exteriores vs. colores en interiores)\n",
            "   - Explicación: Esta reseña es mixta debido a que, aunque el usuario disfruta de los colores vibrantes de la pantalla en interiores, la pantalla es demasiado oscura en exteriores, lo que podría ser una desventaja.\n",
            "\n",
            "3. **Review 3**: Clasificación - Mixta\n",
            "   - Aspectos prioritarios: Rendimiento general, Funcionamiento de aplicaciones específicas\n",
            "   - Explicación: La reseña es mixta porque, aunque el teléfono es rápido en general (aspecto positivo), falla al abrir ciertas aplicaciones (aspecto negativo).\n",
            "\n",
            "Cada reseña presenta una combinación de aspectos positivos y negativos, lo que las clasifica como mixtas. Los aspectos prioritarios identificados son aquellos que son centrales en la experiencia del usuario y que contribuyen tanto a la satisfacción como a las críticas.\n"
          ]
        }
      ],
      "source": [
        "# Agregar solicitud inicial\n",
        "refined_prompt = f\"\"\":\n",
        "Clasifica estas reseñas como positivas, negativas o mixtas y\n",
        "etiqueta los aspectos prioritarios pertinentes, como la duración de\n",
        "la batería, la calidad de la pantalla o el rendimiento\n",
        "{reviews_text}\n",
        "\"\"\"\n",
        "# Invocar el modelo\n",
        "response = result.invoke(refined_prompt, parameters=parameters)\n",
        "# Imprimir la respuesta\n",
        "print(\"Granite Model Refined Response:\\n\")\n",
        "print(response)"
      ]
    },
    {
      "cell_type": "code",
      "execution_count": null,
      "metadata": {
        "id": "Y5wYRN2AYMsu"
      },
      "outputs": [],
      "source": [
        "# Definir las reseñas de los clientes\n",
        "customer_meetings = [\"La reunión comenzó con una discusión sobre el presupuesto de marketing del tercer trimestre. Se decidió que el 40 % del presupuesto se destinará a anuncios digitales, el 30 % a eventos y el 30 % acampañas en redes sociales. El equipo enfatizó la necesidad de concretar asociaciones con influencers para aumentar la visibilidad de la marca y el marketing por correo electrónico para impulsar la interacción directa. El próximo mes se lanzará un programa piloto para probar nuevos formatos de anuncios y el equipo revisará los resultados a finales del tercer trimestre. Posteriormente, el equipo discutió las métricas de rendimiento de la campaña. El seguimiento del ROI será una máxima prioridad y se realizarán ajustes en función de los datos de rendimiento. El equipo de eventos planteó inquietudes sobre la asignación de recursos para las próximas ferias comerciales y se acordó que se reasignarían $10,000 adicionales para cubrir estos gastos. Por último, el equipo revisó nuevos conceptos creativos para la próxima campaña y decidió continuar con el Concepto B, que tuvo mejores resultados entre los grupos focales. Se ultimaron los plazos para la entrega de los activos de campaña: todos los entregables deben presentarse a más tardar el 15 de julio\"\n",
        "]\n"
      ]
    },
    {
      "cell_type": "code",
      "execution_count": null,
      "metadata": {
        "id": "ScijKwuiY4Wd"
      },
      "outputs": [],
      "source": [
        "# Refinar la solicitud para incluir reseñas\n",
        "reviews_text = \"\\n\".join([f\"Review {i+1}: {review}\" for i,\n",
        "review in enumerate(customer_meetings)])"
      ]
    },
    {
      "cell_type": "code",
      "execution_count": null,
      "metadata": {
        "id": "i1noAoVnY50E"
      },
      "outputs": [],
      "source": [
        "# Aplicar parámetros predeterminados\n",
        "parameters = {\n",
        "\"top_k\": 0,\n",
        "\"top_p\": 1.0,\n",
        "\"max_tokens\": 256,\n",
        "\"min_tokens\": 0,\n",
        "\"random_seed\": None,\n",
        "\"repetition_penalty\": 1.0,\n",
        "\"stopping_criteria\": \"length (256 tokens)\",\n",
        "\"stopping_sequence\": None\n",
        "}\n",
        "# Solicitud refinada con ejemplo incluido\n",
        "refined_focus_prompt = f\"\"\"\n",
        "Resume esta reunión centrándote en los puntos clave, las\n",
        "decisiones y las acciones pendientes.\n",
        "{reviews_text}\n",
        "\"\"\""
      ]
    },
    {
      "cell_type": "code",
      "execution_count": null,
      "metadata": {
        "colab": {
          "base_uri": "https://localhost:8080/"
        },
        "id": "gjlAbmA-ZN4b",
        "outputId": "c522a149-dc76-43fa-ff10-8403c1f6dedb"
      },
      "outputs": [
        {
          "name": "stdout",
          "output_type": "stream",
          "text": [
            "Granite Model Response for refined focus area response:\n",
            "\n",
            "**Resumen de la Reunión:**\n",
            "\n",
            "1. **Presupuesto de Marketing del Tercer Trimestre:**\n",
            "   - Se dividió el presupuesto del 40% para anuncios digitales, el 30% para eventos y el 30% para campañas en redes sociales.\n",
            "   - Se acordó buscar asociaciones con influencers para aumentar la visibilidad de la marca y utilizar el marketing por correo electrónico para impulsar la interacción directa.\n",
            "   - Se lanzará un programa piloto para probar nuevos formatos de anuncios en el próximo mes, con una revisión de los resultados a finales del tercer trimestre.\n",
            "\n",
            "2. **Métricas de Rendimiento y ROI:**\n",
            "   - El seguimiento del Retorno de la Inversión (ROI) será una prioridad máxima.\n",
            "   - Los ajustes se realizarán según los datos de rendimiento recopilados.\n",
            "\n",
            "3. **Recursos para Eventos:**\n",
            "   - El equipo de eventos expresó preocupaciones sobre la asignación de recursos para ferias comerciales futuras.\n",
            "   - Se reasignarán $10,000 adicionales para cubrir estos gastos.\n",
            "\n",
            "4. **Conceptos Creativos:**\n",
            "   - Se revisaron nuevos conceptos creativos para la próxima campaña.\n",
            "   - Se decidió continuar con el Concepto B, que mostró mejores resultados en grupos focales.\n",
            "\n",
            "5. **Plazos de Entrega de Activos de Campaña:**\n",
            "   - Todos los entregables deben presentarse a más tardar el 15 de julio.\n",
            "\n",
            "**Acciones Pendientes:**\n",
            "\n",
            "- Finalizar el proceso de selección de influencers para las asociaciones.\n",
            "- Desarrollar y probar nuevos formatos de anuncios para el piloto.\n",
            "- Monitorear y analizar continuamente el ROI y realizar ajustes según sea necesario.\n",
            "- Coordinar la reasignación de $10,000 adicionales para eventos.\n",
            "- Asegurar que todos\n"
          ]
        }
      ],
      "source": [
        "# Invocar el modelo con la solicitud de enfoque refinado\n",
        "response = result.invoke(refined_focus_prompt, parameters=parameters)\n",
        "# Imprimir la respuesta\n",
        "print(\"Granite Model Response for refined focus area response:\\n\")\n",
        "print(response)"
      ]
    },
    {
      "cell_type": "code",
      "execution_count": null,
      "metadata": {
        "id": "jjl2XJlDZcqS"
      },
      "outputs": [],
      "source": [
        "# Refinar el valor del parámetro max_tokens\n",
        "parameters = {\n",
        "\"top_k\": 0,\n",
        "\"top_p\": 1.0,\n",
        "\"max_tokens\": 20,\n",
        "\"min_tokens\": 0,\n",
        "\"random_seed\": None,\n",
        "\"repetition_penalty\": 1.0,\n",
        "\"stopping_criteria\": \"length (256 tokens)\",\n",
        "\"stopping_sequence\": None\n",
        "}\n"
      ]
    },
    {
      "cell_type": "code",
      "execution_count": null,
      "metadata": {
        "colab": {
          "base_uri": "https://localhost:8080/"
        },
        "id": "QoaxeUKHZis8",
        "outputId": "e53d1357-bc49-4460-9bf5-dbe814c936f6"
      },
      "outputs": [
        {
          "name": "stdout",
          "output_type": "stream",
          "text": [
            "Granite Model Response for refined focus area response:\n",
            "\n",
            "**Resumen de la Reunión de Marketing del Tercer Trimestre:**\n",
            "\n",
            "1. **Presupuesto de Marketing:**\n",
            "   - Allocation: 40% para anuncios digitales, 30% para eventos y 30% para campañas en redes sociales.\n",
            "   - Acción pendiente: Establecer asociaciones con influencers y optimizar el marketing por correo electrónico para aumentar la interacción directa.\n",
            "\n",
            "2. **Programa Piloto de Anuncios:**\n",
            "   - Lanzamiento: Se lanzará un programa piloto para probar nuevos formatos de anuncios el próximo mes.\n",
            "   - Revisión: El equipo revisará los resultados a finales del tercer trimestre.\n",
            "\n",
            "3. **Métricas de Rendimiento y ROI:**\n",
            "   - Prioridad: Se seguirá de cerca el ROI y se realizarán ajustes basados en datos de rendimiento.\n",
            "\n",
            "4. **Recursos para Eventos:**\n",
            "   - Ajuste: Se reasignarán $10,000 adicionales para cubrir los gastos de las próximas ferias comerciales.\n",
            "\n",
            "5. **Conceptos Creativos:**\n",
            "   - Decisión: Se optó por continuar con el Concepto B debido a sus mejores resultados en grupos focales.\n",
            "\n",
            "6. **Plazos de Entrega de Campaña:**\n",
            "   - Fecha límite: Todos los activos de campaña deben estar listos para presentarse a más tardar el 15 de julio.\n",
            "\n",
            "Esta reunión resaltó la alocación cuidadosa del presupuesto, el enfoque en métricas clave, la adaptabilidad basada en el rendimiento y la importancia de mantener los plazos para asegurar una campaña exitosa.\n"
          ]
        }
      ],
      "source": [
        "# Invocar el modelo con la solicitud de enfoque refinado\n",
        "response = result.invoke(refined_focus_prompt, parameters=parameters)\n",
        "# Imprimir la respuesta\n",
        "print(\"Granite Model Response for refined focus area response:\\n\")\n",
        "print(response)"
      ]
    },
    {
      "cell_type": "code",
      "execution_count": null,
      "metadata": {
        "id": "kYafSkTkZwTj"
      },
      "outputs": [],
      "source": [
        "# Refinar múltiples valores de parámetros\n",
        "parameters = {\n",
        "\"top_k\": 10,\n",
        "\"top_p\": 0.9,\n",
        "\"max_tokens\": 20,\n",
        "\"min_tokens\": 0,\n",
        "\"random_seed\": None,\n",
        "\"repetition_penalty\": 1.5,\n",
        "\"stopping_criteria\": \"length (256 tokens)\",\n",
        "\"stopping_sequence\": \" \"\n",
        "}"
      ]
    },
    {
      "cell_type": "code",
      "execution_count": null,
      "metadata": {
        "colab": {
          "base_uri": "https://localhost:8080/"
        },
        "id": "JTbr8Y6pZzoc",
        "outputId": "e340196f-52b8-48bc-9178-ce8427b95642"
      },
      "outputs": [
        {
          "name": "stdout",
          "output_type": "stream",
          "text": [
            "Granite Model Response for refined focus area response:\n",
            "\n",
            "**Resumen de la Reunión:**\n",
            "\n",
            "1. **Presupuesto de Marketing (Q3):**\n",
            "   - 40% para anuncios digitales.\n",
            "   - 30% para eventos.\n",
            "   - 30% para campañas en redes sociales.\n",
            "   - Priorización de asociaciones con influencers para aumentar la visibilidad de la marca.\n",
            "   - Enfoque en marketing por correo electrónico para impulsar la interacción directa.\n",
            "   - Lanzamiento de un programa piloto para nuevos formatos de anuncios en el próximo mes.\n",
            "   - Revisión de los resultados a finales del Q3.\n",
            "\n",
            "2. **Métricas de Rendimiento y ROI:**\n",
            "   - Seguimiento del ROI como prioridad máxima.\n",
            "   - Ajustes basados en datos de rendimiento.\n",
            "\n",
            "3. **Recursos para Eventos:**\n",
            "   - Reasignación de $10,000 adicionales para cubrir costos de ferias comerciales.\n",
            "\n",
            "4. **Conceptos Creativos para la Campaña:**\n",
            "   - Selección del Concepto B debido a resultados positivos en grupos focales.\n",
            "   - Plazos de entrega: Todos los activos de campaña deben estar listos para el 15 de julio.\n",
            "\n",
            "**Acciones Pendientes:**\n",
            "\n",
            "- Finalizar y entregar todos los activos de campaña para el 15 de julio.\n",
            "- Monitorear y ajustar estrategias de marketing basándose en el ROI y el rendimiento de los datos.\n",
            "- Coordinar con el equipo de eventos para la asignación de recursos adicionales para ferias comerciales.\n",
            "- Implementar y evaluar el programa piloto de nuevos formatos de anuncios a finales del Q3.\n"
          ]
        }
      ],
      "source": [
        "# Invocar el modelo con la solicitud de enfoque refinado\n",
        "response = result.invoke(refined_focus_prompt, parameters=parameters)\n",
        "# Imprimir la respuesta\n",
        "print(\"Granite Model Response for refined focus area response:\\n\")\n",
        "print(response)"
      ]
    }
  ],
  "metadata": {
    "colab": {
      "provenance": []
    },
    "kernelspec": {
      "display_name": "Python 3",
      "name": "python3"
    },
    "language_info": {
      "name": "python"
    }
  },
  "nbformat": 4,
  "nbformat_minor": 0
}
